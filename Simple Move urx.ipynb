{
 "cells": [
  {
   "cell_type": "code",
   "execution_count": 24,
   "id": "c18dac84",
   "metadata": {},
   "outputs": [
    {
     "name": "stderr",
     "output_type": "stream",
     "text": [
      "tried 11 times to find a packet in data, advertised packet size: -2, type: 3\n",
      "Data length: 69\n",
      "tried 11 times to find a packet in data, advertised packet size: -2, type: 3\n",
      "Data length: 1093\n",
      "tried 11 times to find a packet in data, advertised packet size: -2, type: 3\n",
      "Data length: 1418\n"
     ]
    }
   ],
   "source": [
    "import numpy as np\n",
    "import cv2, time\n",
    "\n",
    "from _thread import *    \n",
    "import threading\n",
    "import urx\n",
    "import asyncio\n",
    "import numpy as np\n",
    "\n",
    "robot = urx.Robot(host='192.168.2.120', use_rt=True)  #### modify according to the IP of your robot\n",
    "\n",
    "#movej is used to make more presize the movements \n",
    "def save_current_pos(fname):\n",
    "    p = robot.getj()\n",
    "    np.savetxt(\"pos/\" + fname, np.array(p))\n",
    "       \n",
    "\n",
    "def move_to_pos(fname, *args, **kwargs):\n",
    "    p = np.loadtxt(\"pos/\" + fname)\n",
    "    robot.movej(p, *args, **kwargs)\n",
    "    \n",
    "def save_current_pos_l(fname):\n",
    "    p = robot.getl()\n",
    "    np.savetxt(\"pos/\" + fname, np.array(p))"
   ]
  },
  {
   "cell_type": "code",
   "execution_count": null,
   "id": "fdeb585f",
   "metadata": {},
   "outputs": [],
   "source": [
    "#The positions are going to be saved in the folder pos/ witht the names you give to the different positions\n",
    "save_current_pos('t_2')"
   ]
  },
  {
   "cell_type": "code",
   "execution_count": null,
   "id": "55f421ea",
   "metadata": {},
   "outputs": [],
   "source": [
    "#To send to the different positions just use the name of the positions and set the speed and acceleration\n",
    "move_to_pos('t_2', 0.1, 0.2)\n"
   ]
  },
  {
   "cell_type": "code",
   "execution_count": null,
   "id": "6e0f2917",
   "metadata": {},
   "outputs": [],
   "source": []
  },
  {
   "cell_type": "code",
   "execution_count": null,
   "id": "374b005a",
   "metadata": {},
   "outputs": [],
   "source": [
    "###### Loop working with projection\n",
    "\n",
    "import numpy as np\n",
    "import cv2, time\n",
    "\n",
    "from _thread import *    \n",
    "import threading\n",
    "import urx\n",
    "import asyncio\n",
    "import numpy as np\n",
    "\n",
    "robot = urx.Robot(host='192.168.88.100', use_rt=True)\n",
    "\n",
    "\n",
    "def save_current_pos(fname):\n",
    "    p = robot.getj()\n",
    "    np.savetxt(\"pos/\" + fname, np.array(p))\n",
    "       \n",
    "\n",
    "def move_to_pos(fname, *args, **kwargs):\n",
    "    p = np.loadtxt(\"pos/\" + fname)\n",
    "    robot.movej(p, *args, **kwargs)\n",
    "\n",
    "\n",
    "\n",
    "def open_gripper():\n",
    "    ### your function\n",
    "    \n",
    "def close_gripper():\n",
    "    ### your function\n",
    "    \n",
    "    \n",
    "\n",
    "\n",
    "while True:\n",
    "    move_to_pos(\"p_1\", 0.1, 0.2)\n",
    "    move_to_pos(\"p_2\", 0.1, 0.2)\n",
    "    move_to_pos(\"p_3\", 0.1, 0.2)\n",
    "    move_to_pos(\"p_4\", 0.1, 0.2)\n",
    "    move_to_pos(\"p_5\", 0.1, 0.2)\n",
    "    \n",
    "    move_to_pos(\"p_6\", 0.1, 0.1)\n",
    "\n",
    "    \n",
    "    \n",
    "    move_to_pos(\"p_6\", 0.1, 0.1)\n",
    "    move_to_pos(\"p_5\", 0.1, 0.1)\n",
    "    move_to_pos(\"p_4\", 0.1, 0.2)\n",
    "    move_to_pos(\"p_3\", 0.1, 0.2)\n",
    "    move_to_pos(\"p_2\", 0.1, 0.2)\n",
    "    \n",
    "    move_to_pos(\"p_1\", 0.1, 0.2)\n",
    "   "
   ]
  },
  {
   "cell_type": "code",
   "execution_count": null,
   "id": "7d5e34a1",
   "metadata": {},
   "outputs": [],
   "source": []
  }
 ],
 "metadata": {
  "kernelspec": {
   "display_name": "Python 3 (ipykernel)",
   "language": "python",
   "name": "python3"
  },
  "language_info": {
   "codemirror_mode": {
    "name": "ipython",
    "version": 3
   },
   "file_extension": ".py",
   "mimetype": "text/x-python",
   "name": "python",
   "nbconvert_exporter": "python",
   "pygments_lexer": "ipython3",
   "version": "3.8.8"
  }
 },
 "nbformat": 4,
 "nbformat_minor": 5
}
